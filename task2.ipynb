{
 "cells": [
  {
   "cell_type": "code",
   "execution_count": 1,
   "metadata": {},
   "outputs": [
    {
     "name": "stdout",
     "output_type": "stream",
     "text": [
      "   userId  movieId  rating   timestamp\n",
      "0       1       31     2.5  1260759144\n",
      "1       1     1029     3.0  1260759179\n",
      "2       1     1061     3.0  1260759182\n",
      "3       1     1129     2.0  1260759185\n",
      "4       1     1172     4.0  1260759205\n"
     ]
    }
   ],
   "source": [
    "import pandas as pd\n",
    "\n",
    "# Load data\n",
    "file_path = \"data/ratings_small.csv\"\n",
    "data = pd.read_csv(file_path, usecols=['userId', 'movieId', 'rating', 'timestamp'])\n",
    "\n",
    "# Display the first few rows of the dataset\n",
    "print(data.head())"
   ]
  },
  {
   "cell_type": "code",
   "execution_count": null,
   "metadata": {},
   "outputs": [],
   "source": [
    "# Computer had a problem and wasnt able to install suprise when creating final jupiter notebook to run the result\n",
    "from surprise import Dataset, Reader\n",
    "from surprise.model_selection import cross_validate, train_test_split\n",
    "from surprise import KNNBasic, KNNWithZScore, SVD"
   ]
  },
  {
   "cell_type": "code",
   "execution_count": null,
   "metadata": {},
   "outputs": [],
   "source": [
    "# Define algorithms\n",
    "user_based_cf = KNNBasic(sim_options={'user_based': True})\n",
    "item_based_cf = KNNBasic(sim_options={'user_based': False})\n",
    "pmf = SVD()"
   ]
  },
  {
   "cell_type": "code",
   "execution_count": null,
   "metadata": {},
   "outputs": [],
   "source": [
    "# Perform 5-fold cross-validation and compute MAE, RMSE for each algorithm\n",
    "def evaluate_algorithm(algo, data):\n",
    "    results = cross_validate(algo, data, measures=['MAE', 'RMSE'], cv=5, verbose=True)\n",
    "    return results\n",
    "\n",
    "user_based_results = evaluate_algorithm(user_based_cf, data)\n",
    "item_based_results = evaluate_algorithm(item_based_cf, data)\n",
    "pmf_results = evaluate_algorithm(pmf, data)"
   ]
  },
  {
   "cell_type": "code",
   "execution_count": null,
   "metadata": {},
   "outputs": [],
   "source": [
    "# Display average MAE and RMSE for each algorithm\n",
    "def display_results(results, algorithm_name):\n",
    "    avg_mae = results['test_mae'].mean()\n",
    "    avg_rmse = results['test_rmse'].mean()\n",
    "    print(f'{algorithm_name}:')\n",
    "    print(f'  Average MAE: {avg_mae:.4f}')\n",
    "    print(f'  Average RMSE: {avg_rmse:.4f}')\n",
    "    print()\n",
    "\n",
    "display_results(user_based_results, 'User-Based Collaborative Filtering')\n",
    "display_results(item_based_results, 'Item-Based Collaborative Filtering')\n",
    "display_results(pmf_results, 'Probabilistic Matrix Factorization')"
   ]
  },
  {
   "cell_type": "code",
   "execution_count": null,
   "metadata": {},
   "outputs": [],
   "source": [
    "# Compare the average performances of the algorithms\n",
    "best_algorithm_mae = min(user_based_results['test_mae'].mean(), item_based_results['test_mae'].mean(), pmf_results['test_mae'].mean())\n",
    "best_algorithm_rmse = min(user_based_results['test_rmse'].mean(), item_based_results['test_rmse'].mean(), pmf_results['test_rmse'].mean())\n",
    "\n",
    "print(f'Best Algorithm (MAE): {best_algorithm_mae:.4f}')\n",
    "print(f'Best Algorithm (RMSE): {best_algorithm_rmse:.4f}')\n"
   ]
  },
  {
   "cell_type": "code",
   "execution_count": null,
   "metadata": {},
   "outputs": [],
   "source": [
    "# Examine the impact of similarity metrics on User-Based and Item-Based Collaborative Filtering\n",
    "similarity_metrics = ['cosine', 'msd', 'pearson']\n",
    "\n",
    "def evaluate_similarity_impact(algo, data, similarity_metric):\n",
    "    algo.sim_options['similarity_options'] = {'name': similarity_metric}\n",
    "    results = cross_validate(algo, data, measures=['MAE', 'RMSE'], cv=5, verbose=True)\n",
    "    return results\n",
    "\n",
    "user_based_similarity_results = {metric: evaluate_similarity_impact(user_based_cf, data, metric) for metric in similarity_metrics}\n",
    "item_based_similarity_results = {metric: evaluate_similarity_impact(item_based_cf, data, metric) for metric in similarity_metrics}"
   ]
  },
  {
   "cell_type": "code",
   "execution_count": null,
   "metadata": {},
   "outputs": [],
   "source": [
    "# Plot the results\n",
    "import matplotlib.pyplot as plt\n",
    "\n",
    "def plot_results(results, title):\n",
    "    for metric, result in results.items():\n",
    "        plt.plot(result['test_mae'], label=f'MAE ({metric})')\n",
    "        plt.plot(result['test_rmse'], label=f'RMSE ({metric})')\n",
    "\n",
    "    plt.title(title)\n",
    "    plt.xlabel('Fold')\n",
    "    plt.ylabel('Error')\n",
    "    plt.legend()\n",
    "    plt.show()\n",
    "\n",
    "plot_results(user_based_similarity_results, 'User-Based Collaborative Filtering Similarity Impact')\n",
    "plot_results(item_based_similarity_results, 'Item-Based Collaborative Filtering Similarity Impact')\n"
   ]
  },
  {
   "cell_type": "code",
   "execution_count": null,
   "metadata": {},
   "outputs": [],
   "source": [
    "# Examine the impact of the number of neighbors on User-Based and Item-Based Collaborative Filtering\n",
    "neighbor_values = [5, 10, 15, 20, 25]\n",
    "\n",
    "def evaluate_neighbors_impact(algo, data, neighbor_value):\n",
    "    algo.sim_options['k'] = neighbor_value\n",
    "    results = cross_validate(algo, data, measures=['MAE', 'RMSE'], cv=5, verbose=True)\n",
    "    return results\n",
    "\n",
    "user_based_neighbors_results = {value: evaluate_neighbors_impact(user_based_cf, data, value) for value in neighbor_values}\n",
    "item_based_neighbors_results = {value: evaluate_neighbors_impact(item_based_cf, data, value) for value in neighbor_values}"
   ]
  },
  {
   "cell_type": "code",
   "execution_count": null,
   "metadata": {},
   "outputs": [],
   "source": [
    "# Plot the results\n",
    "plot_results(user_based_neighbors_results, 'User-Based Collaborative Filtering Neighbors Impact')\n",
    "plot_results(item_based_neighbors_results, 'Item-Based Collaborative Filtering Neighbors Impact')"
   ]
  },
  {
   "cell_type": "code",
   "execution_count": null,
   "metadata": {},
   "outputs": [],
   "source": [
    "# Identify the best number of neighbors for User-Based and Item-Based Collaborative Filtering\n",
    "best_k_user_based = min(user_based_neighbors_results, key=lambda k: user_based_neighbors_results[k]['test_rmse'].mean())\n",
    "best_k_item_based = min(item_based_neighbors_results, key=lambda k: item_based_neighbors_results[k]['test_rmse'].mean())\n",
    "\n",
    "print(f'Best number of neighbors for User-Based Collaborative Filtering: {best_k_user_based}')\n",
    "print(f'Best number of neighbors for Item-Based Collaborative Filtering: {best_k_item_based}')"
   ]
  }
 ],
 "metadata": {
  "kernelspec": {
   "display_name": "Python 3",
   "language": "python",
   "name": "python3"
  },
  "language_info": {
   "codemirror_mode": {
    "name": "ipython",
    "version": 3
   },
   "file_extension": ".py",
   "mimetype": "text/x-python",
   "name": "python",
   "nbconvert_exporter": "python",
   "pygments_lexer": "ipython3",
   "version": "3.11.0"
  }
 },
 "nbformat": 4,
 "nbformat_minor": 2
}
